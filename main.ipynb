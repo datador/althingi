{
 "cells": [
  {
   "cell_type": "code",
   "execution_count": null,
   "metadata": {},
   "outputs": [],
   "source": [
    "from src.download.get_videos import download_meetings\n",
    "from src.transform.to_audio import get_audio\n",
    "from src.processing.processing import process_video\n",
    "from src.processing.process_audio import process_raw_audio\n",
    "from src.processing.process_audio import label_processed_audio\n",
    "import numpy as np\n",
    "\n",
    "download_meetings(first_meeting=110, max_downloads='all', max_retries=20, logging=True)\n",
    "get_audio(video_dir='videos', audio_dir='audio/raw', video_format='.mp4', audio_format='.wav')\n",
    "process_video(video_dir='videos', log_dir='logs', \n",
    "                  lower_yellow=np.array([29, 100, 100]), \n",
    "                  upper_yellow=np.array([33, 255, 255]), \n",
    "                  lower_white=np.array([240]),\n",
    "                  upper_white=np.array([255]),\n",
    "                  custom_config=r'--oem 3 --psm 6 -l isl',\n",
    "                  frame_skip=500)\n",
    "process_raw_audio()\n",
    "label_processed_audio()\n",
    "\n",
    "\n",
    "from src.google.gcs import AudioProcessor\n",
    "gcs_processor = AudioProcessor('SA/sa-althingi.json', 'althingi-audio-bucket')\n",
    "gcs_processor.upload_files_to_bucket('C:/repos/althyngi/audio/labeled/20230601T132241-althingi-115')\n",
    "gcs_processor.transcribe_audio_files(\n",
    "    '20230601T132241-althingi-115',\n",
    "    'C:/repos/althyngi/text/labeled/20230601T132241-althingi-115',\n",
    "    'V1',\n",
    "    max_transcriptions=1\n",
    ")"
   ]
  },
  {
   "cell_type": "code",
   "execution_count": null,
   "metadata": {},
   "outputs": [],
   "source": []
  }
 ],
 "metadata": {
  "language_info": {
   "name": "python"
  },
  "orig_nbformat": 4
 },
 "nbformat": 4,
 "nbformat_minor": 2
}
